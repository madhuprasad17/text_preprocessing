{
  "nbformat": 4,
  "nbformat_minor": 0,
  "metadata": {
    "colab": {
      "provenance": [],
      "toc_visible": true,
      "authorship_tag": "ABX9TyObagkazHIKqhvvrTCYpp5e",
      "include_colab_link": true
    },
    "kernelspec": {
      "name": "python3",
      "display_name": "Python 3"
    },
    "language_info": {
      "name": "python"
    }
  },
  "cells": [
    {
      "cell_type": "markdown",
      "metadata": {
        "id": "view-in-github",
        "colab_type": "text"
      },
      "source": [
        "<a href=\"https://colab.research.google.com/github/madhuprasad17/text_preprocessing/blob/main/text_preprocessing.ipynb\" target=\"_parent\"><img src=\"https://colab.research.google.com/assets/colab-badge.svg\" alt=\"Open In Colab\"/></a>"
      ]
    },
    {
      "cell_type": "code",
      "source": [
        "import pandas as pd"
      ],
      "metadata": {
        "id": "KLq4ZX6Zqwji"
      },
      "execution_count": 28,
      "outputs": []
    },
    {
      "cell_type": "code",
      "source": [
        "data= pd.read_csv(\"https://raw.githubusercontent.com/madhuprasad17/text_preprocessing/main/sample.csv\")\n"
      ],
      "metadata": {
        "id": "lCjJygFZroMF"
      },
      "execution_count": 29,
      "outputs": []
    },
    {
      "cell_type": "code",
      "source": [
        "data.head()"
      ],
      "metadata": {
        "colab": {
          "base_uri": "https://localhost:8080/",
          "height": 380
        },
        "id": "B-ca7rXKQH92",
        "outputId": "c79ff576-e1c6-4c44-f4c8-831d6e561b39"
      },
      "execution_count": 8,
      "outputs": [
        {
          "output_type": "execute_result",
          "data": {
            "text/plain": [
              "   tweet_id     author_id  inbound                      created_at  \\\n",
              "0    119237        105834     True  Wed Oct 11 06:55:44 +0000 2017   \n",
              "1    119238  ChaseSupport    False  Wed Oct 11 13:25:49 +0000 2017   \n",
              "2    119239        105835     True  Wed Oct 11 13:00:09 +0000 2017   \n",
              "3    119240  VirginTrains    False  Tue Oct 10 15:16:08 +0000 2017   \n",
              "4    119241        105836     True  Tue Oct 10 15:17:21 +0000 2017   \n",
              "\n",
              "                                                text response_tweet_id  \\\n",
              "0  @AppleSupport causing the reply to be disregar...            119236   \n",
              "1  @105835 Your business means a lot to us. Pleas...               NaN   \n",
              "2  @76328 I really hope you all change but I'm su...            119238   \n",
              "3  @105836 LiveChat is online at the moment - htt...            119241   \n",
              "4  @VirginTrains see attached error message. I've...            119243   \n",
              "\n",
              "   in_response_to_tweet_id  \n",
              "0                      NaN  \n",
              "1                 119239.0  \n",
              "2                      NaN  \n",
              "3                 119242.0  \n",
              "4                 119240.0  "
            ],
            "text/html": [
              "\n",
              "  <div id=\"df-9dd74a32-ee6e-43b6-9077-de8c460c474a\" class=\"colab-df-container\">\n",
              "    <div>\n",
              "<style scoped>\n",
              "    .dataframe tbody tr th:only-of-type {\n",
              "        vertical-align: middle;\n",
              "    }\n",
              "\n",
              "    .dataframe tbody tr th {\n",
              "        vertical-align: top;\n",
              "    }\n",
              "\n",
              "    .dataframe thead th {\n",
              "        text-align: right;\n",
              "    }\n",
              "</style>\n",
              "<table border=\"1\" class=\"dataframe\">\n",
              "  <thead>\n",
              "    <tr style=\"text-align: right;\">\n",
              "      <th></th>\n",
              "      <th>tweet_id</th>\n",
              "      <th>author_id</th>\n",
              "      <th>inbound</th>\n",
              "      <th>created_at</th>\n",
              "      <th>text</th>\n",
              "      <th>response_tweet_id</th>\n",
              "      <th>in_response_to_tweet_id</th>\n",
              "    </tr>\n",
              "  </thead>\n",
              "  <tbody>\n",
              "    <tr>\n",
              "      <th>0</th>\n",
              "      <td>119237</td>\n",
              "      <td>105834</td>\n",
              "      <td>True</td>\n",
              "      <td>Wed Oct 11 06:55:44 +0000 2017</td>\n",
              "      <td>@AppleSupport causing the reply to be disregar...</td>\n",
              "      <td>119236</td>\n",
              "      <td>NaN</td>\n",
              "    </tr>\n",
              "    <tr>\n",
              "      <th>1</th>\n",
              "      <td>119238</td>\n",
              "      <td>ChaseSupport</td>\n",
              "      <td>False</td>\n",
              "      <td>Wed Oct 11 13:25:49 +0000 2017</td>\n",
              "      <td>@105835 Your business means a lot to us. Pleas...</td>\n",
              "      <td>NaN</td>\n",
              "      <td>119239.0</td>\n",
              "    </tr>\n",
              "    <tr>\n",
              "      <th>2</th>\n",
              "      <td>119239</td>\n",
              "      <td>105835</td>\n",
              "      <td>True</td>\n",
              "      <td>Wed Oct 11 13:00:09 +0000 2017</td>\n",
              "      <td>@76328 I really hope you all change but I'm su...</td>\n",
              "      <td>119238</td>\n",
              "      <td>NaN</td>\n",
              "    </tr>\n",
              "    <tr>\n",
              "      <th>3</th>\n",
              "      <td>119240</td>\n",
              "      <td>VirginTrains</td>\n",
              "      <td>False</td>\n",
              "      <td>Tue Oct 10 15:16:08 +0000 2017</td>\n",
              "      <td>@105836 LiveChat is online at the moment - htt...</td>\n",
              "      <td>119241</td>\n",
              "      <td>119242.0</td>\n",
              "    </tr>\n",
              "    <tr>\n",
              "      <th>4</th>\n",
              "      <td>119241</td>\n",
              "      <td>105836</td>\n",
              "      <td>True</td>\n",
              "      <td>Tue Oct 10 15:17:21 +0000 2017</td>\n",
              "      <td>@VirginTrains see attached error message. I've...</td>\n",
              "      <td>119243</td>\n",
              "      <td>119240.0</td>\n",
              "    </tr>\n",
              "  </tbody>\n",
              "</table>\n",
              "</div>\n",
              "    <div class=\"colab-df-buttons\">\n",
              "\n",
              "  <div class=\"colab-df-container\">\n",
              "    <button class=\"colab-df-convert\" onclick=\"convertToInteractive('df-9dd74a32-ee6e-43b6-9077-de8c460c474a')\"\n",
              "            title=\"Convert this dataframe to an interactive table.\"\n",
              "            style=\"display:none;\">\n",
              "\n",
              "  <svg xmlns=\"http://www.w3.org/2000/svg\" height=\"24px\" viewBox=\"0 -960 960 960\">\n",
              "    <path d=\"M120-120v-720h720v720H120Zm60-500h600v-160H180v160Zm220 220h160v-160H400v160Zm0 220h160v-160H400v160ZM180-400h160v-160H180v160Zm440 0h160v-160H620v160ZM180-180h160v-160H180v160Zm440 0h160v-160H620v160Z\"/>\n",
              "  </svg>\n",
              "    </button>\n",
              "\n",
              "  <style>\n",
              "    .colab-df-container {\n",
              "      display:flex;\n",
              "      gap: 12px;\n",
              "    }\n",
              "\n",
              "    .colab-df-convert {\n",
              "      background-color: #E8F0FE;\n",
              "      border: none;\n",
              "      border-radius: 50%;\n",
              "      cursor: pointer;\n",
              "      display: none;\n",
              "      fill: #1967D2;\n",
              "      height: 32px;\n",
              "      padding: 0 0 0 0;\n",
              "      width: 32px;\n",
              "    }\n",
              "\n",
              "    .colab-df-convert:hover {\n",
              "      background-color: #E2EBFA;\n",
              "      box-shadow: 0px 1px 2px rgba(60, 64, 67, 0.3), 0px 1px 3px 1px rgba(60, 64, 67, 0.15);\n",
              "      fill: #174EA6;\n",
              "    }\n",
              "\n",
              "    .colab-df-buttons div {\n",
              "      margin-bottom: 4px;\n",
              "    }\n",
              "\n",
              "    [theme=dark] .colab-df-convert {\n",
              "      background-color: #3B4455;\n",
              "      fill: #D2E3FC;\n",
              "    }\n",
              "\n",
              "    [theme=dark] .colab-df-convert:hover {\n",
              "      background-color: #434B5C;\n",
              "      box-shadow: 0px 1px 3px 1px rgba(0, 0, 0, 0.15);\n",
              "      filter: drop-shadow(0px 1px 2px rgba(0, 0, 0, 0.3));\n",
              "      fill: #FFFFFF;\n",
              "    }\n",
              "  </style>\n",
              "\n",
              "    <script>\n",
              "      const buttonEl =\n",
              "        document.querySelector('#df-9dd74a32-ee6e-43b6-9077-de8c460c474a button.colab-df-convert');\n",
              "      buttonEl.style.display =\n",
              "        google.colab.kernel.accessAllowed ? 'block' : 'none';\n",
              "\n",
              "      async function convertToInteractive(key) {\n",
              "        const element = document.querySelector('#df-9dd74a32-ee6e-43b6-9077-de8c460c474a');\n",
              "        const dataTable =\n",
              "          await google.colab.kernel.invokeFunction('convertToInteractive',\n",
              "                                                    [key], {});\n",
              "        if (!dataTable) return;\n",
              "\n",
              "        const docLinkHtml = 'Like what you see? Visit the ' +\n",
              "          '<a target=\"_blank\" href=https://colab.research.google.com/notebooks/data_table.ipynb>data table notebook</a>'\n",
              "          + ' to learn more about interactive tables.';\n",
              "        element.innerHTML = '';\n",
              "        dataTable['output_type'] = 'display_data';\n",
              "        await google.colab.output.renderOutput(dataTable, element);\n",
              "        const docLink = document.createElement('div');\n",
              "        docLink.innerHTML = docLinkHtml;\n",
              "        element.appendChild(docLink);\n",
              "      }\n",
              "    </script>\n",
              "  </div>\n",
              "\n",
              "\n",
              "<div id=\"df-f750f64c-1633-4452-b971-296389e19062\">\n",
              "  <button class=\"colab-df-quickchart\" onclick=\"quickchart('df-f750f64c-1633-4452-b971-296389e19062')\"\n",
              "            title=\"Suggest charts\"\n",
              "            style=\"display:none;\">\n",
              "\n",
              "<svg xmlns=\"http://www.w3.org/2000/svg\" height=\"24px\"viewBox=\"0 0 24 24\"\n",
              "     width=\"24px\">\n",
              "    <g>\n",
              "        <path d=\"M19 3H5c-1.1 0-2 .9-2 2v14c0 1.1.9 2 2 2h14c1.1 0 2-.9 2-2V5c0-1.1-.9-2-2-2zM9 17H7v-7h2v7zm4 0h-2V7h2v10zm4 0h-2v-4h2v4z\"/>\n",
              "    </g>\n",
              "</svg>\n",
              "  </button>\n",
              "\n",
              "<style>\n",
              "  .colab-df-quickchart {\n",
              "      --bg-color: #E8F0FE;\n",
              "      --fill-color: #1967D2;\n",
              "      --hover-bg-color: #E2EBFA;\n",
              "      --hover-fill-color: #174EA6;\n",
              "      --disabled-fill-color: #AAA;\n",
              "      --disabled-bg-color: #DDD;\n",
              "  }\n",
              "\n",
              "  [theme=dark] .colab-df-quickchart {\n",
              "      --bg-color: #3B4455;\n",
              "      --fill-color: #D2E3FC;\n",
              "      --hover-bg-color: #434B5C;\n",
              "      --hover-fill-color: #FFFFFF;\n",
              "      --disabled-bg-color: #3B4455;\n",
              "      --disabled-fill-color: #666;\n",
              "  }\n",
              "\n",
              "  .colab-df-quickchart {\n",
              "    background-color: var(--bg-color);\n",
              "    border: none;\n",
              "    border-radius: 50%;\n",
              "    cursor: pointer;\n",
              "    display: none;\n",
              "    fill: var(--fill-color);\n",
              "    height: 32px;\n",
              "    padding: 0;\n",
              "    width: 32px;\n",
              "  }\n",
              "\n",
              "  .colab-df-quickchart:hover {\n",
              "    background-color: var(--hover-bg-color);\n",
              "    box-shadow: 0 1px 2px rgba(60, 64, 67, 0.3), 0 1px 3px 1px rgba(60, 64, 67, 0.15);\n",
              "    fill: var(--button-hover-fill-color);\n",
              "  }\n",
              "\n",
              "  .colab-df-quickchart-complete:disabled,\n",
              "  .colab-df-quickchart-complete:disabled:hover {\n",
              "    background-color: var(--disabled-bg-color);\n",
              "    fill: var(--disabled-fill-color);\n",
              "    box-shadow: none;\n",
              "  }\n",
              "\n",
              "  .colab-df-spinner {\n",
              "    border: 2px solid var(--fill-color);\n",
              "    border-color: transparent;\n",
              "    border-bottom-color: var(--fill-color);\n",
              "    animation:\n",
              "      spin 1s steps(1) infinite;\n",
              "  }\n",
              "\n",
              "  @keyframes spin {\n",
              "    0% {\n",
              "      border-color: transparent;\n",
              "      border-bottom-color: var(--fill-color);\n",
              "      border-left-color: var(--fill-color);\n",
              "    }\n",
              "    20% {\n",
              "      border-color: transparent;\n",
              "      border-left-color: var(--fill-color);\n",
              "      border-top-color: var(--fill-color);\n",
              "    }\n",
              "    30% {\n",
              "      border-color: transparent;\n",
              "      border-left-color: var(--fill-color);\n",
              "      border-top-color: var(--fill-color);\n",
              "      border-right-color: var(--fill-color);\n",
              "    }\n",
              "    40% {\n",
              "      border-color: transparent;\n",
              "      border-right-color: var(--fill-color);\n",
              "      border-top-color: var(--fill-color);\n",
              "    }\n",
              "    60% {\n",
              "      border-color: transparent;\n",
              "      border-right-color: var(--fill-color);\n",
              "    }\n",
              "    80% {\n",
              "      border-color: transparent;\n",
              "      border-right-color: var(--fill-color);\n",
              "      border-bottom-color: var(--fill-color);\n",
              "    }\n",
              "    90% {\n",
              "      border-color: transparent;\n",
              "      border-bottom-color: var(--fill-color);\n",
              "    }\n",
              "  }\n",
              "</style>\n",
              "\n",
              "  <script>\n",
              "    async function quickchart(key) {\n",
              "      const quickchartButtonEl =\n",
              "        document.querySelector('#' + key + ' button');\n",
              "      quickchartButtonEl.disabled = true;  // To prevent multiple clicks.\n",
              "      quickchartButtonEl.classList.add('colab-df-spinner');\n",
              "      try {\n",
              "        const charts = await google.colab.kernel.invokeFunction(\n",
              "            'suggestCharts', [key], {});\n",
              "      } catch (error) {\n",
              "        console.error('Error during call to suggestCharts:', error);\n",
              "      }\n",
              "      quickchartButtonEl.classList.remove('colab-df-spinner');\n",
              "      quickchartButtonEl.classList.add('colab-df-quickchart-complete');\n",
              "    }\n",
              "    (() => {\n",
              "      let quickchartButtonEl =\n",
              "        document.querySelector('#df-f750f64c-1633-4452-b971-296389e19062 button');\n",
              "      quickchartButtonEl.style.display =\n",
              "        google.colab.kernel.accessAllowed ? 'block' : 'none';\n",
              "    })();\n",
              "  </script>\n",
              "</div>\n",
              "\n",
              "    </div>\n",
              "  </div>\n"
            ]
          },
          "metadata": {},
          "execution_count": 8
        }
      ]
    },
    {
      "cell_type": "code",
      "source": [
        "data.sample()"
      ],
      "metadata": {
        "colab": {
          "base_uri": "https://localhost:8080/",
          "height": 115
        },
        "id": "s2o7JKw5RqZR",
        "outputId": "4e1a6400-8ef8-402c-8f24-b71818021026"
      },
      "execution_count": 9,
      "outputs": [
        {
          "output_type": "execute_result",
          "data": {
            "text/plain": [
              "    tweet_id        author_id  inbound                      created_at  \\\n",
              "25    119264  British_Airways    False  Wed Oct 11 13:36:31 +0000 2017   \n",
              "\n",
              "                                                 text response_tweet_id  \\\n",
              "25  @105842 We're sorry your flight has been delay...               NaN   \n",
              "\n",
              "    in_response_to_tweet_id  \n",
              "25                 119265.0  "
            ],
            "text/html": [
              "\n",
              "  <div id=\"df-49f53141-2f1c-4eea-961b-46c89c4d3867\" class=\"colab-df-container\">\n",
              "    <div>\n",
              "<style scoped>\n",
              "    .dataframe tbody tr th:only-of-type {\n",
              "        vertical-align: middle;\n",
              "    }\n",
              "\n",
              "    .dataframe tbody tr th {\n",
              "        vertical-align: top;\n",
              "    }\n",
              "\n",
              "    .dataframe thead th {\n",
              "        text-align: right;\n",
              "    }\n",
              "</style>\n",
              "<table border=\"1\" class=\"dataframe\">\n",
              "  <thead>\n",
              "    <tr style=\"text-align: right;\">\n",
              "      <th></th>\n",
              "      <th>tweet_id</th>\n",
              "      <th>author_id</th>\n",
              "      <th>inbound</th>\n",
              "      <th>created_at</th>\n",
              "      <th>text</th>\n",
              "      <th>response_tweet_id</th>\n",
              "      <th>in_response_to_tweet_id</th>\n",
              "    </tr>\n",
              "  </thead>\n",
              "  <tbody>\n",
              "    <tr>\n",
              "      <th>25</th>\n",
              "      <td>119264</td>\n",
              "      <td>British_Airways</td>\n",
              "      <td>False</td>\n",
              "      <td>Wed Oct 11 13:36:31 +0000 2017</td>\n",
              "      <td>@105842 We're sorry your flight has been delay...</td>\n",
              "      <td>NaN</td>\n",
              "      <td>119265.0</td>\n",
              "    </tr>\n",
              "  </tbody>\n",
              "</table>\n",
              "</div>\n",
              "    <div class=\"colab-df-buttons\">\n",
              "\n",
              "  <div class=\"colab-df-container\">\n",
              "    <button class=\"colab-df-convert\" onclick=\"convertToInteractive('df-49f53141-2f1c-4eea-961b-46c89c4d3867')\"\n",
              "            title=\"Convert this dataframe to an interactive table.\"\n",
              "            style=\"display:none;\">\n",
              "\n",
              "  <svg xmlns=\"http://www.w3.org/2000/svg\" height=\"24px\" viewBox=\"0 -960 960 960\">\n",
              "    <path d=\"M120-120v-720h720v720H120Zm60-500h600v-160H180v160Zm220 220h160v-160H400v160Zm0 220h160v-160H400v160ZM180-400h160v-160H180v160Zm440 0h160v-160H620v160ZM180-180h160v-160H180v160Zm440 0h160v-160H620v160Z\"/>\n",
              "  </svg>\n",
              "    </button>\n",
              "\n",
              "  <style>\n",
              "    .colab-df-container {\n",
              "      display:flex;\n",
              "      gap: 12px;\n",
              "    }\n",
              "\n",
              "    .colab-df-convert {\n",
              "      background-color: #E8F0FE;\n",
              "      border: none;\n",
              "      border-radius: 50%;\n",
              "      cursor: pointer;\n",
              "      display: none;\n",
              "      fill: #1967D2;\n",
              "      height: 32px;\n",
              "      padding: 0 0 0 0;\n",
              "      width: 32px;\n",
              "    }\n",
              "\n",
              "    .colab-df-convert:hover {\n",
              "      background-color: #E2EBFA;\n",
              "      box-shadow: 0px 1px 2px rgba(60, 64, 67, 0.3), 0px 1px 3px 1px rgba(60, 64, 67, 0.15);\n",
              "      fill: #174EA6;\n",
              "    }\n",
              "\n",
              "    .colab-df-buttons div {\n",
              "      margin-bottom: 4px;\n",
              "    }\n",
              "\n",
              "    [theme=dark] .colab-df-convert {\n",
              "      background-color: #3B4455;\n",
              "      fill: #D2E3FC;\n",
              "    }\n",
              "\n",
              "    [theme=dark] .colab-df-convert:hover {\n",
              "      background-color: #434B5C;\n",
              "      box-shadow: 0px 1px 3px 1px rgba(0, 0, 0, 0.15);\n",
              "      filter: drop-shadow(0px 1px 2px rgba(0, 0, 0, 0.3));\n",
              "      fill: #FFFFFF;\n",
              "    }\n",
              "  </style>\n",
              "\n",
              "    <script>\n",
              "      const buttonEl =\n",
              "        document.querySelector('#df-49f53141-2f1c-4eea-961b-46c89c4d3867 button.colab-df-convert');\n",
              "      buttonEl.style.display =\n",
              "        google.colab.kernel.accessAllowed ? 'block' : 'none';\n",
              "\n",
              "      async function convertToInteractive(key) {\n",
              "        const element = document.querySelector('#df-49f53141-2f1c-4eea-961b-46c89c4d3867');\n",
              "        const dataTable =\n",
              "          await google.colab.kernel.invokeFunction('convertToInteractive',\n",
              "                                                    [key], {});\n",
              "        if (!dataTable) return;\n",
              "\n",
              "        const docLinkHtml = 'Like what you see? Visit the ' +\n",
              "          '<a target=\"_blank\" href=https://colab.research.google.com/notebooks/data_table.ipynb>data table notebook</a>'\n",
              "          + ' to learn more about interactive tables.';\n",
              "        element.innerHTML = '';\n",
              "        dataTable['output_type'] = 'display_data';\n",
              "        await google.colab.output.renderOutput(dataTable, element);\n",
              "        const docLink = document.createElement('div');\n",
              "        docLink.innerHTML = docLinkHtml;\n",
              "        element.appendChild(docLink);\n",
              "      }\n",
              "    </script>\n",
              "  </div>\n",
              "\n",
              "\n",
              "    </div>\n",
              "  </div>\n"
            ]
          },
          "metadata": {},
          "execution_count": 9
        }
      ]
    },
    {
      "cell_type": "code",
      "source": [
        "data['text']= data[\"text\"].str.lower()"
      ],
      "metadata": {
        "id": "FWePE0-aRyKM"
      },
      "execution_count": 30,
      "outputs": []
    },
    {
      "cell_type": "code",
      "source": [
        "data['text']"
      ],
      "metadata": {
        "colab": {
          "base_uri": "https://localhost:8080/"
        },
        "id": "hHdbMIDNi4E7",
        "outputId": "e70859f9-2eeb-4293-eeaa-64e87a748663"
      },
      "execution_count": 31,
      "outputs": [
        {
          "output_type": "execute_result",
          "data": {
            "text/plain": [
              "0     @applesupport causing the reply to be disregar...\n",
              "1     @105835 your business means a lot to us. pleas...\n",
              "2     @76328 i really hope you all change but i'm su...\n",
              "3     @105836 livechat is online at the moment - htt...\n",
              "4     @virgintrains see attached error message. i've...\n",
              "                            ...                        \n",
              "88    @105860 i wish amazon had an option of where i...\n",
              "89    they reschedule my shit for tomorrow https://t...\n",
              "90    @105861 hey sara, sorry to hear of the issues ...\n",
              "91    @tesco bit of both - finding the layout cumber...\n",
              "92    @105861 if that doesn't help please dm your fu...\n",
              "Name: text, Length: 93, dtype: object"
            ]
          },
          "metadata": {},
          "execution_count": 31
        }
      ]
    },
    {
      "cell_type": "code",
      "source": [
        "text= data['text']"
      ],
      "metadata": {
        "id": "tg4jGtDujJkX"
      },
      "execution_count": 32,
      "outputs": []
    },
    {
      "cell_type": "code",
      "source": [
        "text"
      ],
      "metadata": {
        "colab": {
          "base_uri": "https://localhost:8080/"
        },
        "id": "3SJuWEPyjPfw",
        "outputId": "85938422-27b3-4383-8cfb-ef299de156c2"
      },
      "execution_count": 33,
      "outputs": [
        {
          "output_type": "execute_result",
          "data": {
            "text/plain": [
              "0     @applesupport causing the reply to be disregar...\n",
              "1     @105835 your business means a lot to us. pleas...\n",
              "2     @76328 i really hope you all change but i'm su...\n",
              "3     @105836 livechat is online at the moment - htt...\n",
              "4     @virgintrains see attached error message. i've...\n",
              "                            ...                        \n",
              "88    @105860 i wish amazon had an option of where i...\n",
              "89    they reschedule my shit for tomorrow https://t...\n",
              "90    @105861 hey sara, sorry to hear of the issues ...\n",
              "91    @tesco bit of both - finding the layout cumber...\n",
              "92    @105861 if that doesn't help please dm your fu...\n",
              "Name: text, Length: 93, dtype: object"
            ]
          },
          "metadata": {},
          "execution_count": 33
        }
      ]
    },
    {
      "cell_type": "code",
      "source": [],
      "metadata": {
        "id": "NiBOT3DEvyl6"
      },
      "execution_count": null,
      "outputs": []
    },
    {
      "cell_type": "code",
      "source": [
        "pip install emoji"
      ],
      "metadata": {
        "colab": {
          "base_uri": "https://localhost:8080/"
        },
        "id": "iagSu0ZchtTP",
        "outputId": "446273b7-869d-4e20-a593-72f952db3d31"
      },
      "execution_count": 34,
      "outputs": [
        {
          "output_type": "stream",
          "name": "stdout",
          "text": [
            "Requirement already satisfied: emoji in /usr/local/lib/python3.10/dist-packages (2.10.1)\n"
          ]
        }
      ]
    },
    {
      "cell_type": "code",
      "source": [
        "text_column = data['text']"
      ],
      "metadata": {
        "id": "Ho2Mj_0_jSh8"
      },
      "execution_count": 88,
      "outputs": []
    },
    {
      "cell_type": "code",
      "source": [
        "print(text_column)"
      ],
      "metadata": {
        "colab": {
          "base_uri": "https://localhost:8080/"
        },
        "id": "GFd8_ycZwDCK",
        "outputId": "9876b870-1bce-4834-c225-01f788ef0430"
      },
      "execution_count": 89,
      "outputs": [
        {
          "output_type": "stream",
          "name": "stdout",
          "text": [
            "0     @AppleSupport causing the reply to be disregar...\n",
            "1     @105835 Your business means a lot to us. Pleas...\n",
            "2     @76328 I really hope you all change but I'm su...\n",
            "3     @105836 LiveChat is online at the moment - htt...\n",
            "4     @VirginTrains see attached error message. I've...\n",
            "                            ...                        \n",
            "88    @105860 I wish Amazon had an option of where I...\n",
            "89    They reschedule my shit for tomorrow https://t...\n",
            "90    @105861 Hey Sara, sorry to hear of the issues ...\n",
            "91    @Tesco bit of both - finding the layout cumber...\n",
            "92    @105861 If that doesn't help please DM your fu...\n",
            "Name: text, Length: 93, dtype: object\n"
          ]
        }
      ]
    },
    {
      "cell_type": "code",
      "source": [
        "\n",
        "def remove_emojis(text):\n",
        "  return emoji.demojize(text)\n",
        "\n",
        "\n"
      ],
      "metadata": {
        "id": "i4lmpz-1gB24"
      },
      "execution_count": 91,
      "outputs": []
    },
    {
      "cell_type": "code",
      "source": [
        "\n",
        "remove_emojis(text_column)"
      ],
      "metadata": {
        "colab": {
          "base_uri": "https://localhost:8080/",
          "height": 1000
        },
        "id": "E_i0bKYiwBOi",
        "outputId": "e0b879f5-efb9-4e86-e6fa-447445705378"
      },
      "execution_count": 117,
      "outputs": [
        {
          "output_type": "execute_result",
          "data": {
            "text/plain": [
              "\"@AppleSupport causing the reply to be disregarded and the tapped notification under the keyboard is opened:enraged_face::enraged_face::enraged_face:@105835 Your business means a lot to us. Please DM your name, zip code and additional details about your concern. ^RR https://t.co/znUu1VJn9r@76328 I really hope you all change but I'm sure you won't! Because you don't have to!@105836 LiveChat is online at the moment - https://t.co/SY94VtU8Kq or contact 03331 031 031 option 1, 4, 3 (Leave a message) to request a call back@VirginTrains see attached error message. I've tried leaving a voicemail several times in the past week https://t.co/NxVZjlYx1k@105836 Have you tried from another device, Miriam ^MM@VirginTrains yep, I've tried laptop too several times over the past week and again today. I've tried different browsers too@105836 It's working OK from here, Miriam. Does this link help https://t.co/0m2mpH15eh ? ^MM@VirginTrains I still haven't heard &amp; the number I'm directed to by phone is a dead end &amp; the live chat doesn't work. Can someone call me?@105836 That's what we're here for Miriam :smiling_face_with_smiling_eyes:  The team should send you an email shortly ^HP@105837 We can help. Which version of iOS are you on? You can find that in Settings &gt; General &gt; About. Reply in DM. https://t.co/GDrqU22YpT@105838 @AppleSupport Me too am suffering , hope the can find a solution@AppleSupport hi #apple, I’ve a concern about the latest ios is too slow on #iphone6 and i am not happy with it. Any solution please?@105839 Thanks for reaching out to us. We are always happy to help. Send us a DM so we can look into this together. https://t.co/GDrqU22YpTI just updated my phone and suddenly everything takes ages to load wtf @76099 this update sux I hate it fix it bye@105840 Hi there! What device is this happening on? If you could also let us know the Android and Spotify versions you're using, that'd be great /AY@SpotifyCares Thanks! Version 8.4.22.857 armv7 on anker bluetooth speaker on Samsung Galaxy Tab A (2016) Model SM-T280 Does distance from speaker matter?@105840 Thanks. The distance could possibly affect playback. Does logging out &gt; restarting your device &gt; logging back in make a difference? /AY@SpotifyCares No, but I've moved speaker to about 1 metre away and it's not skipping at the mo - it was about 3 or 4 metres away before. Fingers crossed!@105840 That's great to hear. If anything comes up, just let us know. We'll carry on helping out :slightly_smiling_face: /AY@SpotifyCares Brilliant thanks :smiling_face_with_smiling_eyes:@105840 You're welcome! If there's anything else we can help with, just give us a shout. We're here for you :winking_face: /CP@76495 @91226 Please help! Spotify Premium skipping through songs constantly on android tablet &amp; bluetooth speaker. Tried everything!@105841 We'd love to help! Please DM us and let us know any steps you've tried since experiencing these behaviors. https://t.co/GDrqU22YpT@AppleSupport after the 11.0.2 my phone just sucks most of the apps are broken, wifi disconnects frequently #apple #ios1102 #painfulupdate@105842 We're sorry your flight has been delayed, Beatner. Are you travelling on the BA8733? If so, the updated departure time we have is 15:30. 1/2First flight for long time with @British_Airways. Now over one 1h delay for the short jump FRA-LCY and NO one here to provide status updates@105843 Battery life is important, and we're here for you. DM us the iOS version your iPhone is running. We'll go from there. https://t.co/GDrqU22YpTOkay @76099 I used my fucking phone for 2 minutes and it drains it down 8 fucking percent@105844 Thanks for reaching out to us. We are always happy to help. Send us a DM so we can look into this together. https://t.co/GDrqU22YpT@AppleSupport Can you get my iPhone 7plus back on the old iOS please?  Battery runs out in half the time, apps now frequently crash.@105844 We'd be happy to help. Send us a DM and we can start there. https://t.co/GDrqU22YpTYou’ve paralysed my phone with your update @76099 grrrrrrrrrr@82476 :thinking_face: We'd like to help Sam, which number is calling you? Please DM us more info so we can advise further. https://t.co/5pyLDJBC6r@O2 I received this a few weeks ago, since then I've been getting 2/3 calls a day from a telemarketer. Is someone using your name? https://t.co/GLtz4XHcex@105845 I understand this is a frustrating experience, please send a DM with your account information so I can look into this matter for you. -ADMy internet is down and xfinity talkin about 24-72 hours... y’all have the game messed up. \\n\\n@77245@105676 I understand how you frustrated this situation can be. Please follow us by sending a DM for further assistance. Sprint Cares. -AC@76803  I service last 40 min sprint can I get a refund https://t.co/wYPw9hP6wt@105846 We'd like to help. What happens when you try to listen to Apple Music &amp; use WhatsApp? Does the music pause? Let us know in DM. https://t.co/GDrqU22YpTSo the new @76099 update does not let me listen to music and go on whatsapp at the same time?!?@105847 Hi Harry! Help's here. Can you check if logging out &gt; restarting your device &gt; logging back in makes a difference? Keep us posted /MU@SpotifyCares seems to be working at this stage. Will let you know if it happens again. Cheers@105847 Sure thing. We'll keep an eye out for your update /MU@SpotifyCares problem has come back again today. is there some kind of bug?@105847 Thanks for giving us a nudge about this. What device, operating system, and Spotify version is this happening on? /AY@SpotifyCares It's on a Macbook Air (early 2014), running High Sierra, spotify version 1.0.65.320.gac7a8e02@105847 Got it. Can you try the steps here for us: https://t.co/EqisDMwZAT? They should help with this. Let us know how it plays out /AY@SpotifyCares i've been having issues with playback. songs have been stopping midway through and won't restart unless i close and reopen app@105848 Let's take a look. What is the exact iOS you're using? Are you using any specific apps when noticing this? DM us your reply. https://t.co/GDrqU22YpT@AppleSupport Latest version :enraged_face::enraged_face: I have read the help page turned off virtually all apps and location svs too - but in typing this I dropped 3% life@AppleSupport Super help - problem solved :grinning_face: once again in love with Apple@AppleSupport #ios11update - is still killing my battery within 12 hours - phone is 10 months old - it’s a disgrace - used to get 2 days@105849 Thanks for reaching out to us. We are always happy to help. Send us a DM so we can look into this together. https://t.co/GDrqU22YpTTook my phone off charge at 7:20am.\\n\\n8:03am - 60% battery remaining.\\n\\n@76099 plz I beg you, sort your battery life out:weary_face:@105850 Once the points load and you hit the number, you get it immediately! You'll even receive a congrats email. Are you almost there? ^AC@SouthwestAir I am! Thank you for the answer!!@southwestair Just curious....will I get the companion pass the exact moment I get enough points? It will I have to wait? Thanks!@105851 We'd like to provide some assistance with this. Tell us more about the issue you're experiencing in DM. We'll go from there. https://t.co/GDrqU22YpT@AppleSupport I need a new code for my I-store. I haven’t recd any but msg is too many sent. Help!@105852 Are you experiencing an issue with your device? If so, DM us with what's going on. We'll see how we can help from there. https://t.co/GDrqU22YpT@76099 @AppleSupport fix this update. It’s horrible@105842 I appreciate it's after 15:30 now, so hopefully you will depart very soon. We're sorry for any inconvenience the delay has caused. 2/2 ^JR@British_Airways Thanks for your answer. Response onsite was that Aircraft will not depart today, so rebooking to @105853 with now 4h delay...@105842 Very sorry to hear this.  We hope you get everything sorted.   Kind Regards ^Jools@105854 I am sorry for the poor experience. Can you please DM the full service address and name on the account, as we ass... https://t.co/JEZhqGdBMd@Ask_Spectrum It's just in my yard. I've called 4-5 times in 6 weeks. I'm not a customer but it's pretty tempting. I do have some coaxial@76501 I guess this means free cable for the neighborhood. https://t.co/FBgEE9YXPm@105855 Hi Thomas, if a colleague believes the person buying alcohol looks under 25, they will be challenged for ID to prove they're of age. - Paige@Tesco Maybe hire colleagues who can see?@Tesco The point is if it's enforced they do it properly or they don't. Plus take some common-sense and think does that person look over 18?@105855 Hi Thomas, this is correct but this helps our store colleagues judge age and protect them from making underage sales. Amanda@Tesco Uk offlicense law is 18. Not 25@105855 Hi Thomas, we operate a Think 25 policy at our stores. I'd be flattered to be ID'd. :-) - HelenaGot id's @Tesco for buying one Adnams Broadside. Is being blind part of the job-spec? I am 35 and 99 kilos.@105856 Hi there, could you try deleting your cache and cookies and reinstalling the app if using it? This should fix the issue :) - Dani@Tesco Will I lose all the shopping I've done if I delete the cache/cookies (not using app)?@105856 Hi there, as long as you sign out of your account prior to deleting your cache &amp; cookies, you'll still have a full basket :) Thanks - Mike@Tesco Done all that. Still telling me there are no delivery slots whatsoever.@105856 Can you DM me your full name, address and email? I'd be happy to look into this further for you :) Thanks - MikeHey @Tesco, your website's broken. It's telling me there are no delivery slots for the next 3 weeks, which I find slightly unlikely.@105857 Is there a particular app that seems to cause these issues more than others? What model iPhone are you using? Join us in DM. https://t.co/GDrqU22YpT@AppleSupport I have the latest version iOS. It started immediately after I updated my phone.@105857 We'd like to help if we can. When did this start happening? Which version of iOS are you running currently?My apps stop working without warning and my phone freezes every five minutes! Love the new update @76099!!!!@105858 Hi Agoura, thanks for tweeting. Please refer to this article: https://t.co/BSsgjZARTc &amp; click the link to reply back. ^Rashmi https://t.co/a2xkfCrUG1@HPSupport Problem with printhead  Serial# TH536D1HN #hpcswus #hpprnt@105859 UPS has a service called My Choice that will allow your packages to be delivered to UPS Store. ^ML  https://t.co/BPZKndqww1 https://t.co/wKJHDXWGRQ@105860 I wish Amazon had an option of where I can just get it shipped to the ups store so I can avoid a lot of the struggleThey reschedule my shit for tomorrow https://t.co/RsvZcT982t@105861 Hey Sara, sorry to hear of the issues you are having, can I ask if it's the lay out or just the speed of the website responding? TY - Chris@Tesco bit of both - finding the layout cumbersome and when removing an item from faves - getting a huge slowdown. Not keen on the thin green line https://t.co/9281OKEebk@105861 If that doesn't help please DM your full name, address and email including the browser and device so we can log this. Thanks - Lee 2/2\""
            ],
            "application/vnd.google.colaboratory.intrinsic+json": {
              "type": "string"
            }
          },
          "metadata": {},
          "execution_count": 117
        }
      ]
    },
    {
      "cell_type": "code",
      "source": [
        "text_column = \"@AppleSupport causing the reply to be disregarded and the tapped notification under the keyboard is opened:enraged_face::enraged_face::enraged_face:@105835 Your business means a lot to us. Please DM your name, zip code and additional details about your concern. ^RR https://t.co/znUu1VJn9r@76328 I really hope you all change but I'm sure you won't! Because you don't have to!@105836 LiveChat is online at the moment - https://t.co/SY94VtU8Kq or contact 03331 031 031 option 1, 4, 3 (Leave a message) to request a call back@VirginTrains see attached error message. I've tried leaving a voicemail several times in the past week https://t.co/NxVZjlYx1k@105836 Have you tried from another device, Miriam ^MM@VirginTrains yep, I've tried laptop too several times over the past week and again today. I've tried different browsers too@105836 It's working OK from here, Miriam. Does this link help https://t.co/0m2mpH15eh ? ^MM@VirginTrains I still haven't heard &amp; the number I'm directed to by phone is a dead end &amp; the live chat doesn't work. Can someone call me?@105836 That's what we're here for Miriam :smiling_face_with_smiling_eyes:  The team should send you an email shortly ^HP@105837 We can help. Which version of iOS are you on? You can find that in Settings &gt; General &gt; About. Reply in DM. https://t.co/GDrqU22YpT@105838 @AppleSupport Me too am suffering , hope the can find a solution@AppleSupport hi #apple, I’ve a concern about the latest ios is too slow on #iphone6 and i am not happy with it. Any solution please?@105839 Thanks for reaching out to us. We are always happy to help. Send us a DM so we can look into this together. https://t.co/GDrqU22YpTI just updated my phone and suddenly everything takes ages to load wtf @76099 this update sux I hate it fix it bye@105840 Hi there! What device is this happening on? If you could also let us know the Android and Spotify versions you're using, that'd be great /AY@SpotifyCares Thanks! Version 8.4.22.857 armv7 on anker bluetooth speaker on Samsung Galaxy Tab A (2016) Model SM-T280 Does distance from speaker matter?@105840 Thanks. The distance could possibly affect playback. Does logging out &gt; restarting your device &gt; logging back in make a difference? /AY@SpotifyCares No, but I've moved speaker to about 1 metre away and it's not skipping at the mo - it was about 3 or 4 metres away before. Fingers crossed!@105840 That's great to hear. If anything comes up, just let us know. We'll carry on helping out :slightly_smiling_face: /AY@SpotifyCares Brilliant thanks :smiling_face_with_smiling_eyes:@105840 You're welcome! If there's anything else we can help with, just give us a shout. We're here for you :winking_face: /CP@76495 @91226 Please help! Spotify Premium skipping through songs constantly on android tablet &amp; bluetooth speaker. Tried everything!@105841 We'd love to help! Please DM us and let us know any steps you've tried since experiencing these behaviors. https://t.co/GDrqU22YpT@AppleSupport after the 11.0.2 my phone just sucks most of the apps are broken, wifi disconnects frequently #apple #ios1102 #painfulupdate@105842 We're sorry your flight has been delayed, Beatner. Are you travelling on the BA8733? If so, the updated departure time we have is 15:30. 1/2First flight for long time with @British_Airways. Now over one 1h delay for the short jump FRA-LCY and NO one here to provide status updates@105843 Battery life is important, and we're here for you. DM us the iOS version your iPhone is running. We'll go from there. https://t.co/GDrqU22YpTOkay @76099 I used my fucking phone for 2 minutes and it drains it down 8 fucking percent@105844 Thanks for reaching out to us. We are always happy to help. Send us a DM so we can look into this together. https://t.co/GDrqU22YpT@AppleSupport Can you get my iPhone 7plus back on the old iOS please?  Battery runs out in half the time, apps now frequently crash.@105844 We'd be happy to help. Send us a DM and we can start there. https://t.co/GDrqU22YpTYou’ve paralysed my phone with your update @76099 grrrrrrrrrr@82476 :thinking_face: We'd like to help Sam, which number is calling you? Please DM us more info so we can advise further. https://t.co/5pyLDJBC6r@O2 I received this a few weeks ago, since then I've been getting 2/3 calls a day from a telemarketer. Is someone using your name? https://t.co/GLtz4XHcex@105845 I understand this is a frustrating experience, please send a DM with your account information so I can look into this matter for you. -ADMy internet is down and xfinity talkin about 24-72 hours... y’all have the game messed up. \\n\\n@77245@105676 I understand how you frustrated this situation can be. Please follow us by sending a DM for further assistance. Sprint Cares. -AC@76803  I service last 40 min sprint can I get a refund https://t.co/wYPw9hP6wt@105846 We'd like to help. What happens when you try to listen to Apple Music &amp; use WhatsApp? Does the music pause? Let us know in DM. https://t.co/GDrqU22YpTSo the new @76099 update does not let me listen to music and go on whatsapp at the same time?!?@105847 Hi Harry! Help's here. Can you check if logging out &gt; restarting your device &gt; logging back in makes a difference? Keep us posted /MU@SpotifyCares seems to be working at this stage. Will let you know if it happens again. Cheers@105847 Sure thing. We'll keep an eye out for your update /MU@SpotifyCares problem has come back again today. is there some kind of bug?@105847 Thanks for giving us a nudge about this. What device, operating system, and Spotify version is this happening on? /AY@SpotifyCares It's on a Macbook Air (early 2014), running High Sierra, spotify version 1.0.65.320.gac7a8e02@105847 Got it. Can you try the steps here for us: https://t.co/EqisDMwZAT? They should help with this. Let us know how it plays out /AY@SpotifyCares i've been having issues with playback. songs have been stopping midway through and won't restart unless i close and reopen app@105848 Let's take a look. What is the exact iOS you're using? Are you using any specific apps when noticing this? DM us your reply. https://t.co/GDrqU22YpT@AppleSupport Latest version :enraged_face::enraged_face: I have read the help page turned off virtually all apps and location svs too - but in typing this I dropped 3% life@AppleSupport Super help - problem solved :grinning_face: once again in love with Apple@AppleSupport #ios11update - is still killing my battery within 12 hours - phone is 10 months old - it’s a disgrace - used to get 2 days@105849 Thanks for reaching out to us. We are always happy to help. Send us a DM so we can look into this together. https://t.co/GDrqU22YpTTook my phone off charge at 7:20am.\\n\\n8:03am - 60% battery remaining.\\n\\n@76099 plz I beg you, sort your battery life out:weary_face:@105850 Once the points load and you hit the number, you get it immediately! You'll even receive a congrats email. Are you almost there? ^AC@SouthwestAir I am! Thank you for the answer!!@southwestair Just curious....will I get the companion pass the exact moment I get enough points? It will I have to wait? Thanks!@105851 We'd like to provide some assistance with this. Tell us more about the issue you're experiencing in DM. We'll go from there. https://t.co/GDrqU22YpT@AppleSupport I need a new code for my I-store. I haven’t recd any but msg is too many sent. Help!@105852 Are you experiencing an issue with your device? If so, DM us with what's going on. We'll see how we can help from there. https://t.co/GDrqU22YpT@76099 @AppleSupport fix this update. It’s horrible@105842 I appreciate it's after 15:30 now, so hopefully you will depart very soon. We're sorry for any inconvenience the delay has caused. 2/2 ^JR@British_Airways Thanks for your answer. Response onsite was that Aircraft will not depart today, so rebooking to @105853 with now 4h delay...@105842 Very sorry to hear this.  We hope you get everything sorted.   Kind Regards ^Jools@105854 I am sorry for the poor experience. Can you please DM the full service address and name on the account, as we ass... https://t.co/JEZhqGdBMd@Ask_Spectrum It's just in my yard. I've called 4-5 times in 6 weeks. I'm not a customer but it's pretty tempting. I do have some coaxial@76501 I guess this means free cable for the neighborhood. https://t.co/FBgEE9YXPm@105855 Hi Thomas, if a colleague believes the person buying alcohol looks under 25, they will be challenged for ID to prove they're of age. - Paige@Tesco Maybe hire colleagues who can see?@Tesco The point is if it's enforced they do it properly or they don't. Plus take some common-sense and think does that person look over 18?@105855 Hi Thomas, this is correct but this helps our store colleagues judge age and protect them from making underage sales. Amanda@Tesco Uk offlicense law is 18. Not 25@105855 Hi Thomas, we operate a Think 25 policy at our stores. I'd be flattered to be ID'd. :-) - HelenaGot id's @Tesco for buying one Adnams Broadside. Is being blind part of the job-spec? I am 35 and 99 kilos.@105856 Hi there, could you try deleting your cache and cookies and reinstalling the app if using it? This should fix the issue :) - Dani@Tesco Will I lose all the shopping I've done if I delete the cache/cookies (not using app)?@105856 Hi there, as long as you sign out of your account prior to deleting your cache &amp; cookies, you'll still have a full basket :) Thanks - Mike@Tesco Done all that. Still telling me there are no delivery slots whatsoever.@105856 Can you DM me your full name, address and email? I'd be happy to look into this further for you :) Thanks - MikeHey @Tesco, your website's broken. It's telling me there are no delivery slots for the next 3 weeks, which I find slightly unlikely.@105857 Is there a particular app that seems to cause these issues more than others? What model iPhone are you using? Join us in DM. https://t.co/GDrqU22YpT@AppleSupport I have the latest version iOS. It started immediately after I updated my phone.@105857 We'd like to help if we can. When did this start happening? Which version of iOS are you running currently?My apps stop working without warning and my phone freezes every five minutes! Love the new update @76099!!!!@105858 Hi Agoura, thanks for tweeting. Please refer to this article: https://t.co/BSsgjZARTc &amp; click the link to reply back. ^Rashmi https://t.co/a2xkfCrUG1@HPSupport Problem with printhead  Serial# TH536D1HN #hpcswus #hpprnt@105859 UPS has a service called My Choice that will allow your packages to be delivered to UPS Store. ^ML  https://t.co/BPZKndqww1 https://t.co/wKJHDXWGRQ@105860 I wish Amazon had an option of where I can just get it shipped to the ups store so I can avoid a lot of the struggleThey reschedule my shit for tomorrow https://t.co/RsvZcT982t@105861 Hey Sara, sorry to hear of the issues you are having, can I ask if it's the lay out or just the speed of the website responding? TY - Chris@Tesco bit of both - finding the layout cumbersome and when removing an item from faves - getting a huge slowdown. Not keen on the thin green line https://t.co/9281OKEebk@105861 If that doesn't help please DM your full name, address and email including the browser and device so we can log this. Thanks - Lee 2/2\""
      ],
      "metadata": {
        "id": "DfdbsBecEFyT"
      },
      "execution_count": 132,
      "outputs": []
    },
    {
      "cell_type": "code",
      "source": [
        "print(text_column)"
      ],
      "metadata": {
        "colab": {
          "base_uri": "https://localhost:8080/"
        },
        "id": "iFbBOswC5Xf-",
        "outputId": "ff066194-4ea5-4db9-a71e-e39fcb98c336"
      },
      "execution_count": 118,
      "outputs": [
        {
          "output_type": "stream",
          "name": "stdout",
          "text": [
            "0     @AppleSupport causing the reply to be disregar...\n",
            "1     @105835 Your business means a lot to us. Pleas...\n",
            "2     @76328 I really hope you all change but I'm su...\n",
            "3     @105836 LiveChat is online at the moment - htt...\n",
            "4     @VirginTrains see attached error message. I've...\n",
            "                            ...                        \n",
            "88    @105860 I wish Amazon had an option of where I...\n",
            "89    They reschedule my shit for tomorrow https://t...\n",
            "90    @105861 Hey Sara, sorry to hear of the issues ...\n",
            "91    @Tesco bit of both - finding the layout cumber...\n",
            "92    @105861 If that doesn't help please DM your fu...\n",
            "Name: text, Length: 93, dtype: object\n"
          ]
        }
      ]
    },
    {
      "cell_type": "code",
      "source": [
        "remove_emojis(text[0])"
      ],
      "metadata": {
        "colab": {
          "base_uri": "https://localhost:8080/",
          "height": 53
        },
        "id": "wNq75lXfnyVh",
        "outputId": "23b20e91-5dd5-4d82-bd04-ce9999dd4cf7"
      },
      "execution_count": 79,
      "outputs": [
        {
          "output_type": "execute_result",
          "data": {
            "text/plain": [
              "'@applesupport causing the reply to be disregarded and the tapped notification under the keyboard is opened:enraged_face::enraged_face::enraged_face:'"
            ],
            "application/vnd.google.colaboratory.intrinsic+json": {
              "type": "string"
            }
          },
          "metadata": {},
          "execution_count": 79
        }
      ]
    },
    {
      "cell_type": "code",
      "source": [
        "text2=\"@applesupport causing the reply to be disregarded and the tapped notification under the keyboard is opened😡😡😡d \"\n"
      ],
      "metadata": {
        "id": "XLSJlt7YhlQ-"
      },
      "execution_count": 58,
      "outputs": []
    },
    {
      "cell_type": "code",
      "source": [
        "remove_emojis(text2)"
      ],
      "metadata": {
        "colab": {
          "base_uri": "https://localhost:8080/",
          "height": 53
        },
        "id": "aUYqNc_biLG8",
        "outputId": "c52d5132-dd60-4afc-cfbb-207c26d1c018"
      },
      "execution_count": 59,
      "outputs": [
        {
          "output_type": "execute_result",
          "data": {
            "text/plain": [
              "'@applesupport causing the reply to be disregarded and the tapped notification under the keyboard is opened:enraged_face::enraged_face::enraged_face:d '"
            ],
            "application/vnd.google.colaboratory.intrinsic+json": {
              "type": "string"
            }
          },
          "metadata": {},
          "execution_count": 59
        }
      ]
    },
    {
      "cell_type": "code",
      "source": [
        "import re"
      ],
      "metadata": {
        "id": "zPANc4wblsLD"
      },
      "execution_count": 80,
      "outputs": []
    },
    {
      "cell_type": "code",
      "source": [
        "def remove_urls(text):\n",
        "        url_pattern = re.compile(r'https?://\\S+|www\\.\\S+')\n",
        "        return url_pattern.sub('', text)\n",
        "\n",
        "\n"
      ],
      "metadata": {
        "id": "Yzxtc0cWrcVf"
      },
      "execution_count": 101,
      "outputs": []
    },
    {
      "cell_type": "code",
      "source": [
        "remove_urls(text_column)"
      ],
      "metadata": {
        "colab": {
          "base_uri": "https://localhost:8080/",
          "height": 1000
        },
        "id": "SkAJEQkkFDl4",
        "outputId": "e08da430-a826-416b-f782-a31a4c30378f"
      },
      "execution_count": 140,
      "outputs": [
        {
          "output_type": "execute_result",
          "data": {
            "text/plain": [
              "\"@AppleSupport causing the reply to be disregarded and the tapped notification under the keyboard is opened:enraged_face::enraged_face::enraged_face:@105835 Your business means a lot to us. Please DM your name, zip code and additional details about your concern. ^RR  I really hope you all change but I'm sure you won't! Because you don't have to!@105836 LiveChat is online at the moment -  or contact 03331 031 031 option 1, 4, 3 (Leave a message) to request a call back@VirginTrains see attached error message. I've tried leaving a voicemail several times in the past week  Have you tried from another device, Miriam ^MM@VirginTrains yep, I've tried laptop too several times over the past week and again today. I've tried different browsers too@105836 It's working OK from here, Miriam. Does this link help  ? ^MM@VirginTrains I still haven't heard &amp; the number I'm directed to by phone is a dead end &amp; the live chat doesn't work. Can someone call me?@105836 That's what we're here for Miriam :smiling_face_with_smiling_eyes:  The team should send you an email shortly ^HP@105837 We can help. Which version of iOS are you on? You can find that in Settings &gt; General &gt; About. Reply in DM.  @AppleSupport Me too am suffering , hope the can find a solution@AppleSupport hi #apple, I’ve a concern about the latest ios is too slow on #iphone6 and i am not happy with it. Any solution please?@105839 Thanks for reaching out to us. We are always happy to help. Send us a DM so we can look into this together.  just updated my phone and suddenly everything takes ages to load wtf @76099 this update sux I hate it fix it bye@105840 Hi there! What device is this happening on? If you could also let us know the Android and Spotify versions you're using, that'd be great /AY@SpotifyCares Thanks! Version 8.4.22.857 armv7 on anker bluetooth speaker on Samsung Galaxy Tab A (2016) Model SM-T280 Does distance from speaker matter?@105840 Thanks. The distance could possibly affect playback. Does logging out &gt; restarting your device &gt; logging back in make a difference? /AY@SpotifyCares No, but I've moved speaker to about 1 metre away and it's not skipping at the mo - it was about 3 or 4 metres away before. Fingers crossed!@105840 That's great to hear. If anything comes up, just let us know. We'll carry on helping out :slightly_smiling_face: /AY@SpotifyCares Brilliant thanks :smiling_face_with_smiling_eyes:@105840 You're welcome! If there's anything else we can help with, just give us a shout. We're here for you :winking_face: /CP@76495 @91226 Please help! Spotify Premium skipping through songs constantly on android tablet &amp; bluetooth speaker. Tried everything!@105841 We'd love to help! Please DM us and let us know any steps you've tried since experiencing these behaviors.  after the 11.0.2 my phone just sucks most of the apps are broken, wifi disconnects frequently #apple #ios1102 #painfulupdate@105842 We're sorry your flight has been delayed, Beatner. Are you travelling on the BA8733? If so, the updated departure time we have is 15:30. 1/2First flight for long time with @British_Airways. Now over one 1h delay for the short jump FRA-LCY and NO one here to provide status updates@105843 Battery life is important, and we're here for you. DM us the iOS version your iPhone is running. We'll go from there.  @76099 I used my fucking phone for 2 minutes and it drains it down 8 fucking percent@105844 Thanks for reaching out to us. We are always happy to help. Send us a DM so we can look into this together.  Can you get my iPhone 7plus back on the old iOS please?  Battery runs out in half the time, apps now frequently crash.@105844 We'd be happy to help. Send us a DM and we can start there.  paralysed my phone with your update @76099 grrrrrrrrrr@82476 :thinking_face: We'd like to help Sam, which number is calling you? Please DM us more info so we can advise further.  I received this a few weeks ago, since then I've been getting 2/3 calls a day from a telemarketer. Is someone using your name?  I understand this is a frustrating experience, please send a DM with your account information so I can look into this matter for you. -ADMy internet is down and xfinity talkin about 24-72 hours... y’all have the game messed up. \\n\\n@77245@105676 I understand how you frustrated this situation can be. Please follow us by sending a DM for further assistance. Sprint Cares. -AC@76803  I service last 40 min sprint can I get a refund  We'd like to help. What happens when you try to listen to Apple Music &amp; use WhatsApp? Does the music pause? Let us know in DM.  the new @76099 update does not let me listen to music and go on whatsapp at the same time?!?@105847 Hi Harry! Help's here. Can you check if logging out &gt; restarting your device &gt; logging back in makes a difference? Keep us posted /MU@SpotifyCares seems to be working at this stage. Will let you know if it happens again. Cheers@105847 Sure thing. We'll keep an eye out for your update /MU@SpotifyCares problem has come back again today. is there some kind of bug?@105847 Thanks for giving us a nudge about this. What device, operating system, and Spotify version is this happening on? /AY@SpotifyCares It's on a Macbook Air (early 2014), running High Sierra, spotify version 1.0.65.320.gac7a8e02@105847 Got it. Can you try the steps here for us:  They should help with this. Let us know how it plays out /AY@SpotifyCares i've been having issues with playback. songs have been stopping midway through and won't restart unless i close and reopen app@105848 Let's take a look. What is the exact iOS you're using? Are you using any specific apps when noticing this? DM us your reply.  Latest version :enraged_face::enraged_face: I have read the help page turned off virtually all apps and location svs too - but in typing this I dropped 3% life@AppleSupport Super help - problem solved :grinning_face: once again in love with Apple@AppleSupport #ios11update - is still killing my battery within 12 hours - phone is 10 months old - it’s a disgrace - used to get 2 days@105849 Thanks for reaching out to us. We are always happy to help. Send us a DM so we can look into this together.  my phone off charge at 7:20am.\\n\\n8:03am - 60% battery remaining.\\n\\n@76099 plz I beg you, sort your battery life out:weary_face:@105850 Once the points load and you hit the number, you get it immediately! You'll even receive a congrats email. Are you almost there? ^AC@SouthwestAir I am! Thank you for the answer!!@southwestair Just curious....will I get the companion pass the exact moment I get enough points? It will I have to wait? Thanks!@105851 We'd like to provide some assistance with this. Tell us more about the issue you're experiencing in DM. We'll go from there.  I need a new code for my I-store. I haven’t recd any but msg is too many sent. Help!@105852 Are you experiencing an issue with your device? If so, DM us with what's going on. We'll see how we can help from there.  @AppleSupport fix this update. It’s horrible@105842 I appreciate it's after 15:30 now, so hopefully you will depart very soon. We're sorry for any inconvenience the delay has caused. 2/2 ^JR@British_Airways Thanks for your answer. Response onsite was that Aircraft will not depart today, so rebooking to @105853 with now 4h delay...@105842 Very sorry to hear this.  We hope you get everything sorted.   Kind Regards ^Jools@105854 I am sorry for the poor experience. Can you please DM the full service address and name on the account, as we ass...  It's just in my yard. I've called 4-5 times in 6 weeks. I'm not a customer but it's pretty tempting. I do have some coaxial@76501 I guess this means free cable for the neighborhood.  Hi Thomas, if a colleague believes the person buying alcohol looks under 25, they will be challenged for ID to prove they're of age. - Paige@Tesco Maybe hire colleagues who can see?@Tesco The point is if it's enforced they do it properly or they don't. Plus take some common-sense and think does that person look over 18?@105855 Hi Thomas, this is correct but this helps our store colleagues judge age and protect them from making underage sales. Amanda@Tesco Uk offlicense law is 18. Not 25@105855 Hi Thomas, we operate a Think 25 policy at our stores. I'd be flattered to be ID'd. :-) - HelenaGot id's @Tesco for buying one Adnams Broadside. Is being blind part of the job-spec? I am 35 and 99 kilos.@105856 Hi there, could you try deleting your cache and cookies and reinstalling the app if using it? This should fix the issue :) - Dani@Tesco Will I lose all the shopping I've done if I delete the cache/cookies (not using app)?@105856 Hi there, as long as you sign out of your account prior to deleting your cache &amp; cookies, you'll still have a full basket :) Thanks - Mike@Tesco Done all that. Still telling me there are no delivery slots whatsoever.@105856 Can you DM me your full name, address and email? I'd be happy to look into this further for you :) Thanks - MikeHey @Tesco, your website's broken. It's telling me there are no delivery slots for the next 3 weeks, which I find slightly unlikely.@105857 Is there a particular app that seems to cause these issues more than others? What model iPhone are you using? Join us in DM.  I have the latest version iOS. It started immediately after I updated my phone.@105857 We'd like to help if we can. When did this start happening? Which version of iOS are you running currently?My apps stop working without warning and my phone freezes every five minutes! Love the new update @76099!!!!@105858 Hi Agoura, thanks for tweeting. Please refer to this article:  &amp; click the link to reply back. ^Rashmi  Problem with printhead  Serial# TH536D1HN #hpcswus #hpprnt@105859 UPS has a service called My Choice that will allow your packages to be delivered to UPS Store. ^ML    I wish Amazon had an option of where I can just get it shipped to the ups store so I can avoid a lot of the struggleThey reschedule my shit for tomorrow  Hey Sara, sorry to hear of the issues you are having, can I ask if it's the lay out or just the speed of the website responding? TY - Chris@Tesco bit of both - finding the layout cumbersome and when removing an item from faves - getting a huge slowdown. Not keen on the thin green line  If that doesn't help please DM your full name, address and email including the browser and device so we can log this. Thanks - Lee 2/2\""
            ],
            "application/vnd.google.colaboratory.intrinsic+json": {
              "type": "string"
            }
          },
          "metadata": {},
          "execution_count": 140
        }
      ]
    },
    {
      "cell_type": "code",
      "source": [],
      "metadata": {
        "id": "fgc781auGRU3"
      },
      "execution_count": null,
      "outputs": []
    },
    {
      "cell_type": "code",
      "source": [
        "text[89]"
      ],
      "metadata": {
        "colab": {
          "base_uri": "https://localhost:8080/",
          "height": 35
        },
        "id": "4a4UJ28lsLaI",
        "outputId": "32191a64-5548-43cd-b121-fb966c2d53b9"
      },
      "execution_count": 136,
      "outputs": [
        {
          "output_type": "execute_result",
          "data": {
            "text/plain": [
              "'they reschedule my shit for tomorrow https://t.co/rsvzct982t'"
            ],
            "application/vnd.google.colaboratory.intrinsic+json": {
              "type": "string"
            }
          },
          "metadata": {},
          "execution_count": 136
        }
      ]
    },
    {
      "cell_type": "code",
      "source": [
        "remove_urls(text[89])"
      ],
      "metadata": {
        "colab": {
          "base_uri": "https://localhost:8080/",
          "height": 35
        },
        "id": "StLPWqwl7AkW",
        "outputId": "42a52054-d899-4f66-80b0-20b90e5c92ab"
      },
      "execution_count": 139,
      "outputs": [
        {
          "output_type": "execute_result",
          "data": {
            "text/plain": [
              "'they reschedule my shit for tomorrow '"
            ],
            "application/vnd.google.colaboratory.intrinsic+json": {
              "type": "string"
            }
          },
          "metadata": {},
          "execution_count": 139
        }
      ]
    },
    {
      "cell_type": "code",
      "source": [
        "text_column =\"@AppleSupport causing the reply to be disregarded and the tapped notification under the keyboard is opened:enraged_face::enraged_face::enraged_face:@105835 Your business means a lot to us. Please DM your name, zip code and additional details about your concern. ^RR  I really hope you all change but I'm sure you won't! Because you don't have to!@105836 LiveChat is online at the moment -  or contact 03331 031 031 option 1, 4, 3 (Leave a message) to request a call back@VirginTrains see attached error message. I've tried leaving a voicemail several times in the past week  Have you tried from another device, Miriam ^MM@VirginTrains yep, I've tried laptop too several times over the past week and again today. I've tried different browsers too@105836 It's working OK from here, Miriam. Does this link help  ? ^MM@VirginTrains I still haven't heard &amp; the number I'm directed to by phone is a dead end &amp; the live chat doesn't work. Can someone call me?@105836 That's what we're here for Miriam :smiling_face_with_smiling_eyes:  The team should send you an email shortly ^HP@105837 We can help. Which version of iOS are you on? You can find that in Settings &gt; General &gt; About. Reply in DM.  @AppleSupport Me too am suffering , hope the can find a solution@AppleSupport hi #apple, I’ve a concern about the latest ios is too slow on #iphone6 and i am not happy with it. Any solution please?@105839 Thanks for reaching out to us. We are always happy to help. Send us a DM so we can look into this together.  just updated my phone and suddenly everything takes ages to load wtf @76099 this update sux I hate it fix it bye@105840 Hi there! What device is this happening on? If you could also let us know the Android and Spotify versions you're using, that'd be great /AY@SpotifyCares Thanks! Version 8.4.22.857 armv7 on anker bluetooth speaker on Samsung Galaxy Tab A (2016) Model SM-T280 Does distance from speaker matter?@105840 Thanks. The distance could possibly affect playback. Does logging out &gt; restarting your device &gt; logging back in make a difference? /AY@SpotifyCares No, but I've moved speaker to about 1 metre away and it's not skipping at the mo - it was about 3 or 4 metres away before. Fingers crossed!@105840 That's great to hear. If anything comes up, just let us know. We'll carry on helping out :slightly_smiling_face: /AY@SpotifyCares Brilliant thanks :smiling_face_with_smiling_eyes:@105840 You're welcome! If there's anything else we can help with, just give us a shout. We're here for you :winking_face: /CP@76495 @91226 Please help! Spotify Premium skipping through songs constantly on android tablet &amp; bluetooth speaker. Tried everything!@105841 We'd love to help! Please DM us and let us know any steps you've tried since experiencing these behaviors.  after the 11.0.2 my phone just sucks most of the apps are broken, wifi disconnects frequently #apple #ios1102 #painfulupdate@105842 We're sorry your flight has been delayed, Beatner. Are you travelling on the BA8733? If so, the updated departure time we have is 15:30. 1/2First flight for long time with @British_Airways. Now over one 1h delay for the short jump FRA-LCY and NO one here to provide status updates@105843 Battery life is important, and we're here for you. DM us the iOS version your iPhone is running. We'll go from there.  @76099 I used my fucking phone for 2 minutes and it drains it down 8 fucking percent@105844 Thanks for reaching out to us. We are always happy to help. Send us a DM so we can look into this together.  Can you get my iPhone 7plus back on the old iOS please?  Battery runs out in half the time, apps now frequently crash.@105844 We'd be happy to help. Send us a DM and we can start there.  paralysed my phone with your update @76099 grrrrrrrrrr@82476 :thinking_face: We'd like to help Sam, which number is calling you? Please DM us more info so we can advise further.  I received this a few weeks ago, since then I've been getting 2/3 calls a day from a telemarketer. Is someone using your name?  I understand this is a frustrating experience, please send a DM with your account information so I can look into this matter for you. -ADMy internet is down and xfinity talkin about 24-72 hours... y’all have the game messed up. \\n\\n@77245@105676 I understand how you frustrated this situation can be. Please follow us by sending a DM for further assistance. Sprint Cares. -AC@76803  I service last 40 min sprint can I get a refund  We'd like to help. What happens when you try to listen to Apple Music &amp; use WhatsApp? Does the music pause? Let us know in DM.  the new @76099 update does not let me listen to music and go on whatsapp at the same time?!?@105847 Hi Harry! Help's here. Can you check if logging out &gt; restarting your device &gt; logging back in makes a difference? Keep us posted /MU@SpotifyCares seems to be working at this stage. Will let you know if it happens again. Cheers@105847 Sure thing. We'll keep an eye out for your update /MU@SpotifyCares problem has come back again today. is there some kind of bug?@105847 Thanks for giving us a nudge about this. What device, operating system, and Spotify version is this happening on? /AY@SpotifyCares It's on a Macbook Air (early 2014), running High Sierra, spotify version 1.0.65.320.gac7a8e02@105847 Got it. Can you try the steps here for us:  They should help with this. Let us know how it plays out /AY@SpotifyCares i've been having issues with playback. songs have been stopping midway through and won't restart unless i close and reopen app@105848 Let's take a look. What is the exact iOS you're using? Are you using any specific apps when noticing this? DM us your reply.  Latest version :enraged_face::enraged_face: I have read the help page turned off virtually all apps and location svs too - but in typing this I dropped 3% life@AppleSupport Super help - problem solved :grinning_face: once again in love with Apple@AppleSupport #ios11update - is still killing my battery within 12 hours - phone is 10 months old - it’s a disgrace - used to get 2 days@105849 Thanks for reaching out to us. We are always happy to help. Send us a DM so we can look into this together.  my phone off charge at 7:20am.\\n\\n8:03am - 60% battery remaining.\\n\\n@76099 plz I beg you, sort your battery life out:weary_face:@105850 Once the points load and you hit the number, you get it immediately! You'll even receive a congrats email. Are you almost there? ^AC@SouthwestAir I am! Thank you for the answer!!@southwestair Just curious....will I get the companion pass the exact moment I get enough points? It will I have to wait? Thanks!@105851 We'd like to provide some assistance with this. Tell us more about the issue you're experiencing in DM. We'll go from there.  I need a new code for my I-store. I haven’t recd any but msg is too many sent. Help!@105852 Are you experiencing an issue with your device? If so, DM us with what's going on. We'll see how we can help from there.  @AppleSupport fix this update. It’s horrible@105842 I appreciate it's after 15:30 now, so hopefully you will depart very soon. We're sorry for any inconvenience the delay has caused. 2/2 ^JR@British_Airways Thanks for your answer. Response onsite was that Aircraft will not depart today, so rebooking to @105853 with now 4h delay...@105842 Very sorry to hear this.  We hope you get everything sorted.   Kind Regards ^Jools@105854 I am sorry for the poor experience. Can you please DM the full service address and name on the account, as we ass...  It's just in my yard. I've called 4-5 times in 6 weeks. I'm not a customer but it's pretty tempting. I do have some coaxial@76501 I guess this means free cable for the neighborhood.  Hi Thomas, if a colleague believes the person buying alcohol looks under 25, they will be challenged for ID to prove they're of age. - Paige@Tesco Maybe hire colleagues who can see?@Tesco The point is if it's enforced they do it properly or they don't. Plus take some common-sense and think does that person look over 18?@105855 Hi Thomas, this is correct but this helps our store colleagues judge age and protect them from making underage sales. Amanda@Tesco Uk offlicense law is 18. Not 25@105855 Hi Thomas, we operate a Think 25 policy at our stores. I'd be flattered to be ID'd. :-) - HelenaGot id's @Tesco for buying one Adnams Broadside. Is being blind part of the job-spec? I am 35 and 99 kilos.@105856 Hi there, could you try deleting your cache and cookies and reinstalling the app if using it? This should fix the issue :) - Dani@Tesco Will I lose all the shopping I've done if I delete the cache/cookies (not using app)?@105856 Hi there, as long as you sign out of your account prior to deleting your cache &amp; cookies, you'll still have a full basket :) Thanks - Mike@Tesco Done all that. Still telling me there are no delivery slots whatsoever.@105856 Can you DM me your full name, address and email? I'd be happy to look into this further for you :) Thanks - MikeHey @Tesco, your website's broken. It's telling me there are no delivery slots for the next 3 weeks, which I find slightly unlikely.@105857 Is there a particular app that seems to cause these issues more than others? What model iPhone are you using? Join us in DM.  I have the latest version iOS. It started immediately after I updated my phone.@105857 We'd like to help if we can. When did this start happening? Which version of iOS are you running currently?My apps stop working without warning and my phone freezes every five minutes! Love the new update @76099!!!!@105858 Hi Agoura, thanks for tweeting. Please refer to this article:  &amp; click the link to reply back. ^Rashmi  Problem with printhead  Serial# TH536D1HN #hpcswus #hpprnt@105859 UPS has a service called My Choice that will allow your packages to be delivered to UPS Store. ^ML    I wish Amazon had an option of where I can just get it shipped to the ups store so I can avoid a lot of the struggleThey reschedule my shit for tomorrow  Hey Sara, sorry to hear of the issues you are having, can I ask if it's the lay out or just the speed of the website responding? TY - Chris@Tesco bit of both - finding the layout cumbersome and when removing an item from faves - getting a huge slowdown. Not keen on the thin green line  If that doesn't help please DM your full name, address and email including the browser and device so we can log this. Thanks - Lee 2/2\""
      ],
      "metadata": {
        "id": "_-mpBGRsNWD7"
      },
      "execution_count": 157,
      "outputs": []
    },
    {
      "cell_type": "code",
      "source": [],
      "metadata": {
        "id": "19fd7_ODON4f"
      },
      "execution_count": null,
      "outputs": []
    }
  ]
}